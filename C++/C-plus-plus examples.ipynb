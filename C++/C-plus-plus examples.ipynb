{
 "cells": [
  {
   "cell_type": "markdown",
   "metadata": {},
   "source": [
    "## **Trying the jupyter notebook C++ on-line**"
   ]
  },
  {
   "cell_type": "markdown",
   "metadata": {},
   "source": [
    "https://github.com/QuantStack/xeus-cling"
   ]
  },
  {
   "cell_type": "markdown",
   "metadata": {},
   "source": [
    "## **Install kernels in your computer**\n",
    "\n",
    "> Update conda on terminal: `conda update conda` or (not recomended) `conda update --force conda`\n",
    "\n",
    "> `conda install -c conda-forge xeus-clin`\n",
    "\n",
    "> restart terminal\n",
    "\n",
    "> open `jupyter lab`\n",
    "\n",
    "> If there is some problem  erase kernel and try again: `jupyter kernelspec uninstall cling-cpp11`\n",
    "\n"
   ]
  },
  {
   "cell_type": "markdown",
   "metadata": {},
   "source": [
    "## **Check is the installation is working (part 1)**"
   ]
  },
  {
   "cell_type": "markdown",
   "metadata": {},
   "source": [
    "![alt text](fig/C.png \"Title\")"
   ]
  },
  {
   "cell_type": "markdown",
   "metadata": {},
   "source": [
    "## **Check is the installation is working (part 2)**"
   ]
  },
  {
   "cell_type": "code",
   "execution_count": 1,
   "metadata": {},
   "outputs": [
    {
     "data": {
      "text/plain": [
       "4"
      ]
     },
     "execution_count": 1,
     "metadata": {},
     "output_type": "execute_result"
    }
   ],
   "source": [
    "int i = 1;\n",
    "i + 3"
   ]
  },
  {
   "cell_type": "markdown",
   "metadata": {},
   "source": [
    "## **More references**\n",
    "\n",
    "* A gallery of interesting Jupyter Notebooks:\n",
    " https://github.com/jupyter/jupyter/wiki/A-gallery-of-interesting-Jupyter-Notebooks\n",
    "\n",
    "* Learn OpenCV with C++\n",
    "https://www.learnopencv.com/xeus-cling-run-c-code-in-jupyter-notebook/\n",
    "\n",
    "* Sharp: Machile learning library for C++\n",
    "http://image.diku.dk/shark/sphinx_pages/build/html/index.html\n",
    "\n",
    "\n",
    "* Examples: https://towardsdatascience.com/algorithms-in-c-62b607a6131d\n",
    "\n",
    "* Cheat sheets of C\n",
    "\n",
    "https://courses.cs.washington.edu/courses/cse351/14sp/sections/1/Cheatsheet-c.pdf\n",
    "\n",
    "https://c-for-dummies.com/caio/pointer-cheatsheet.php\n",
    "\n",
    "* Why to learn C++\n",
    "https://itnext.io/the-case-for-c-4122a5b47130\n",
    "\n"
   ]
  },
  {
   "cell_type": "code",
   "execution_count": null,
   "metadata": {},
   "outputs": [],
   "source": []
  }
 ],
 "metadata": {
  "kernelspec": {
   "display_name": "C++14",
   "language": "C++14",
   "name": "xcpp14"
  },
  "language_info": {
   "codemirror_mode": "text/x-c++src",
   "file_extension": ".cpp",
   "mimetype": "text/x-c++src",
   "name": "c++",
   "version": "-std=c++14"
  }
 },
 "nbformat": 4,
 "nbformat_minor": 4
}
