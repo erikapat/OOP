{
 "cells": [
  {
   "cell_type": "markdown",
   "metadata": {},
   "source": [
    "## **OOP: EXAMPLE 2**\n",
    "\n",
    "Build a simple linear regression (single or multivariate) estimator class following the OOP paradigm."
   ]
  },
  {
   "cell_type": "code",
   "execution_count": 1,
   "metadata": {},
   "outputs": [],
   "source": [
    "import matplotlib.pyplot as plt\n",
    "import numpy as np"
   ]
  },
  {
   "cell_type": "markdown",
   "metadata": {},
   "source": [
    "**1. Define the class**"
   ]
  },
  {
   "cell_type": "code",
   "execution_count": 2,
   "metadata": {},
   "outputs": [],
   "source": [
    "class MyLinearRegression:\n",
    "    \n",
    "    def __init__(self, fit_intercept=True):\n",
    "        '''\n",
    "        Initialize the class\n",
    "        fit_intercept: Boolean switch to indicate whether to include\n",
    "        an intercept in the model\n",
    "        '''\n",
    "        self.coef_ = None\n",
    "        self.intercept_ = None\n",
    "        self._fit_intercept = fit_intercept"
   ]
  },
  {
   "cell_type": "markdown",
   "metadata": {},
   "source": [
    "**2. Create an instance and check atributes**"
   ]
  },
  {
   "cell_type": "code",
   "execution_count": 3,
   "metadata": {},
   "outputs": [
    {
     "data": {
      "text/plain": [
       "True"
      ]
     },
     "execution_count": 3,
     "metadata": {},
     "output_type": "execute_result"
    }
   ],
   "source": [
    "mlr = MyLinearRegression()\n",
    "mlr._fit_intercept"
   ]
  },
  {
   "cell_type": "code",
   "execution_count": 4,
   "metadata": {},
   "outputs": [
    {
     "data": {
      "text/plain": [
       "True"
      ]
     },
     "execution_count": 4,
     "metadata": {},
     "output_type": "execute_result"
    }
   ],
   "source": [
    "mlr.coef_==None"
   ]
  },
  {
   "cell_type": "code",
   "execution_count": 5,
   "metadata": {},
   "outputs": [
    {
     "data": {
      "text/plain": [
       "True"
      ]
     },
     "execution_count": 5,
     "metadata": {},
     "output_type": "execute_result"
    }
   ],
   "source": [
    "mlr.intercept_ == None"
   ]
  },
  {
   "cell_type": "markdown",
   "metadata": {},
   "source": [
    "**3.Build-in description method**"
   ]
  },
  {
   "cell_type": "code",
   "execution_count": 6,
   "metadata": {},
   "outputs": [],
   "source": [
    "import numpy as np\n",
    "class MyLinearRegression:\n",
    "    \n",
    "    def __init__(self, fit_intercept=True):\n",
    "        '''\n",
    "        Initialize the class\n",
    "        fit_intercept: Boolean switch to indicate whether to include\n",
    "        an intercept in the model\n",
    "        '''\n",
    "        self.coef_ = None\n",
    "        self.intercept_ = None\n",
    "        self._fit_intercept = fit_intercept\n",
    "    \n",
    "    def __repr__(self):\n",
    "        return \"I am a Linear Regression model!\""
   ]
  },
  {
   "cell_type": "code",
   "execution_count": 7,
   "metadata": {},
   "outputs": [
    {
     "name": "stdout",
     "output_type": "stream",
     "text": [
      "I am a Linear Regression model!\n"
     ]
    }
   ],
   "source": [
    "mlr = MyLinearRegression()\n",
    "print(mlr)"
   ]
  },
  {
   "cell_type": "markdown",
   "metadata": {},
   "source": [
    "**4.Adding the fit method**"
   ]
  },
  {
   "cell_type": "code",
   "execution_count": 8,
   "metadata": {},
   "outputs": [],
   "source": [
    "class MyLinearRegression:\n",
    "    def __init__(self, fit_intercept=True):\n",
    "        self.coef_ = None\n",
    "        self.intercept_ = None\n",
    "        self._fit_intercept = fit_intercept\n",
    "    \n",
    "    def __repr__(self):\n",
    "        return \"I am a Linear Regression model!\"\n",
    "    \n",
    "    def fit(self, X, y):\n",
    "        \"\"\"\n",
    "        Fit model coefficients.\n",
    "\n",
    "        Arguments:\n",
    "        X: 1D or 2D numpy array \n",
    "        y: 1D numpy array\n",
    "        \"\"\"\n",
    "        \n",
    "        # check if X is 1D or 2D array\n",
    "        if len(X.shape) == 1:\n",
    "            X = X.reshape(-1,1)\n",
    "            \n",
    "        # add bias if fit_intercept is True\n",
    "        if self._fit_intercept:\n",
    "            X_biased = np.c_[np.ones(X.shape[0]), X]\n",
    "        else:\n",
    "            X_biased = X\n",
    "        \n",
    "        # closed form solution\n",
    "        xTx = np.dot(X_biased.T, X_biased)\n",
    "        inverse_xTx = np.linalg.inv(xTx)\n",
    "        xTy = np.dot(X_biased.T, y)\n",
    "        coef = np.dot(inverse_xTx, xTy)\n",
    "        \n",
    "        # set attributes\n",
    "        if self._fit_intercept:\n",
    "            self.intercept_ = coef[0]\n",
    "            self.coef_ = coef[1:]\n",
    "        else:\n",
    "            self.intercept_ = 0\n",
    "            self.coef_ = coef"
   ]
  },
  {
   "cell_type": "code",
   "execution_count": 9,
   "metadata": {},
   "outputs": [
    {
     "name": "stdout",
     "output_type": "stream",
     "text": [
      "We have not fitted the data yet. There is no regression coefficients\n",
      "Regression coefficients: None\n"
     ]
    }
   ],
   "source": [
    "mlr = MyLinearRegression()\n",
    "print(\"We have not fitted the data yet. There is no regression coefficients\")\n",
    "print(\"Regression coefficients:\", mlr.coef_)"
   ]
  },
  {
   "cell_type": "markdown",
   "metadata": {},
   "source": [
    "**5. To check the values, generate data**"
   ]
  },
  {
   "cell_type": "code",
   "execution_count": 10,
   "metadata": {},
   "outputs": [],
   "source": [
    "X = 10*np.random.random(size=(20,2))\n",
    "y = 3.5*X.T[0]-1.2*X.T[1]+2*np.random.randn(20)"
   ]
  },
  {
   "cell_type": "code",
   "execution_count": 11,
   "metadata": {},
   "outputs": [],
   "source": [
    "mlr.fit(X,y)"
   ]
  },
  {
   "cell_type": "code",
   "execution_count": 12,
   "metadata": {},
   "outputs": [
    {
     "name": "stdout",
     "output_type": "stream",
     "text": [
      "We have fitted the data. We can print the regression coefficients now\n",
      "Regression coefficients: [ 3.56197982 -1.3374653 ]\n",
      "The intercept term is given by:  0.5875327445390255\n"
     ]
    }
   ],
   "source": [
    "print(\"We have fitted the data. We can print the regression coefficients now\")\n",
    "print(\"Regression coefficients:\", mlr.coef_)\n",
    "print(\"The intercept term is given by: \", mlr.intercept_)"
   ]
  },
  {
   "cell_type": "markdown",
   "metadata": {},
   "source": [
    "**6.Include a method to graph**"
   ]
  },
  {
   "cell_type": "code",
   "execution_count": 13,
   "metadata": {},
   "outputs": [],
   "source": [
    "class MyLinearRegression:\n",
    "    \n",
    "    def __init__(self, fit_intercept=True):\n",
    "        self.coef_ = None\n",
    "        self.intercept_ = None\n",
    "        self._fit_intercept = fit_intercept\n",
    "    \n",
    "    def __repr__(self):\n",
    "        return \"I am a Linear Regression model!\"\n",
    "    \n",
    "    def fit(self, X, y):\n",
    "        \"\"\"\n",
    "        Fit model coefficients.\n",
    "\n",
    "        Arguments:\n",
    "        X: 1D or 2D numpy array \n",
    "        y: 1D numpy array\n",
    "        \"\"\"\n",
    "        \n",
    "        # check if X is 1D or 2D array\n",
    "        if len(X.shape) == 1:\n",
    "            X = X.reshape(-1,1)\n",
    "            \n",
    "        # add bias if fit_intercept is True\n",
    "        if self._fit_intercept:\n",
    "            X_biased = np.c_[np.ones(X.shape[0]), X]\n",
    "        else:\n",
    "            X_biased = X\n",
    "        \n",
    "        # closed form solution\n",
    "        xTx = np.dot(X_biased.T, X_biased)\n",
    "        inverse_xTx = np.linalg.inv(xTx)\n",
    "        xTy = np.dot(X_biased.T, y)\n",
    "        coef = np.dot(inverse_xTx, xTy)\n",
    "        \n",
    "        # set attributes\n",
    "        if self._fit_intercept:\n",
    "            self.intercept_ = coef[0]\n",
    "            self.coef_ = coef[1:]\n",
    "        else:\n",
    "            self.intercept_ = 0\n",
    "            self.coef_ = coef\n",
    "            \n",
    "        # Predicted/fitted y\n",
    "        self.fitted_ = np.dot(X,mlr.coef_) + mlr.intercept_\n",
    "    \n",
    "    def plot_fitted(self,reference_line=False):\n",
    "        \"\"\"\n",
    "        Plots fitted values against the true output values from the data\n",
    "        \n",
    "        Arguments:\n",
    "        reference_line: A Boolean switch to draw a 45-degree reference line on the plot\n",
    "        \"\"\"\n",
    "        plt.title(\"True vs. fitted values\",fontsize=14)\n",
    "        plt.scatter(y,self.fitted_,s=100,alpha=0.75,color='red',edgecolor='k')\n",
    "        if reference_line:\n",
    "            plt.plot(y,y,c='k',linestyle='dotted')\n",
    "        plt.xlabel(\"True values\")\n",
    "        plt.ylabel(\"Fitted values\")\n",
    "        plt.grid(True)\n",
    "        plt.show()"
   ]
  },
  {
   "cell_type": "markdown",
   "metadata": {},
   "source": [
    "**7.Check the method to graph**"
   ]
  },
  {
   "cell_type": "code",
   "execution_count": 14,
   "metadata": {},
   "outputs": [
    {
     "data": {
      "image/png": "[encoded data removed]",
      "text/plain": [
       "<Figure size 432x288 with 1 Axes>"
      ]
     },
     "metadata": {
      "needs_background": "light"
     },
     "output_type": "display_data"
    }
   ],
   "source": [
    "# A fresh instance\n",
    "mlr = MyLinearRegression()\n",
    "# Fitting with the data\n",
    "mlr.fit(X,y)\n",
    "\n",
    "# Call the 'plot_fitted' method\n",
    "mlr.plot_fitted()"
   ]
  },
  {
   "cell_type": "code",
   "execution_count": 15,
   "metadata": {},
   "outputs": [
    {
     "data": {
      "image/png": "[encoded data removed]",
      "text/plain": [
       "<Figure size 432x288 with 1 Axes>"
      ]
     },
     "metadata": {
      "needs_background": "light"
     },
     "output_type": "display_data"
    }
   ],
   "source": [
    "# We can pass on a switch 'reference_line' to draw a 45-degree reference line on the plot\n",
    "mlr.plot_fitted(reference_line=True)"
   ]
  },
  {
   "cell_type": "markdown",
   "metadata": {},
   "source": [
    "**8.Adding a predict method**"
   ]
  },
  {
   "cell_type": "code",
   "execution_count": 16,
   "metadata": {},
   "outputs": [],
   "source": [
    "class MyLinearRegression:\n",
    "    \n",
    "    def __init__(self, fit_intercept=True):\n",
    "        self.coef_ = None\n",
    "        self.intercept_ = None\n",
    "        self._fit_intercept = fit_intercept\n",
    "    \n",
    "    def __repr__(self):\n",
    "        return \"I am a Linear Regression model!\"\n",
    "    \n",
    "    def fit(self, X, y):\n",
    "        \"\"\"\n",
    "        Fit model coefficients.\n",
    "\n",
    "        Arguments:\n",
    "        X: 1D or 2D numpy array \n",
    "        y: 1D numpy array\n",
    "        \"\"\"\n",
    "        \n",
    "        # check if X is 1D or 2D array\n",
    "        if len(X.shape) == 1:\n",
    "            X = X.reshape(-1,1)\n",
    "            \n",
    "        # add bias if fit_intercept is True\n",
    "        if self._fit_intercept:\n",
    "            X_biased = np.c_[np.ones(X.shape[0]), X]\n",
    "        else:\n",
    "            X_biased = X\n",
    "        \n",
    "        # closed form solution\n",
    "        xTx = np.dot(X_biased.T, X_biased)\n",
    "        inverse_xTx = np.linalg.inv(xTx)\n",
    "        xTy = np.dot(X_biased.T, y)\n",
    "        coef = np.dot(inverse_xTx, xTy)\n",
    "        \n",
    "        # set attributes\n",
    "        if self._fit_intercept:\n",
    "            self.intercept_ = coef[0]\n",
    "            self.coef_ = coef[1:]\n",
    "        else:\n",
    "            self.intercept_ = 0\n",
    "            self.coef_ = coef\n",
    "            \n",
    "        # Predicted/fitted y\n",
    "        self.fitted_ = np.dot(X,mlr.coef_) + mlr.intercept_\n",
    "    \n",
    "    def plot_fitted(self,reference_line=False):\n",
    "        \"\"\"\n",
    "        Plots fitted values against the true output values from the data\n",
    "        \n",
    "        Arguments:\n",
    "        reference_line: A Boolean switch to draw a 45-degree reference line on the plot\n",
    "        \"\"\"\n",
    "        plt.title(\"True vs. fitted values\",fontsize=14)\n",
    "        plt.scatter(y,self.fitted_,s=100,alpha=0.75,color='red',edgecolor='k')\n",
    "        if reference_line:\n",
    "            plt.plot(y,y,c='k',linestyle='dotted')\n",
    "        plt.xlabel(\"True values\")\n",
    "        plt.ylabel(\"Fitted values\")\n",
    "        plt.grid(True)\n",
    "        plt.show()\n",
    "    \n",
    "    def predict(self, X):\n",
    "        \"\"\"Output model prediction.\n",
    "\n",
    "        Arguments:\n",
    "        X: 1D or 2D numpy array\n",
    "        \"\"\"\n",
    "        # check if X is 1D or 2D array\n",
    "        if len(X.shape) == 1:\n",
    "            X = X.reshape(-1,1)\n",
    "        self.predicted_ = self.intercept_ + np.dot(X, self.coef_)\n",
    "        return self.predicted_"
   ]
  },
  {
   "cell_type": "markdown",
   "metadata": {},
   "source": [
    "**9.Check the predict method**"
   ]
  },
  {
   "cell_type": "code",
   "execution_count": 19,
   "metadata": {},
   "outputs": [
    {
     "data": {
      "text/plain": [
       "array([16.75509652,  6.80351727,  3.80855446, 29.079156  ,  4.83860375,\n",
       "       17.59440736, 10.34025641, 30.27983101, 13.14194737,  3.41943947])"
      ]
     },
     "execution_count": 19,
     "metadata": {},
     "output_type": "execute_result"
    }
   ],
   "source": [
    "num_new_samples = 10\n",
    "X_new = 10*np.random.random(size=(num_new_samples,2))\n",
    "y_new = 3.5*X_new.T[0]-1.2*X_new.T[1]+2*np.random.randn(num_new_samples)\n",
    "mlr = MyLinearRegression()\n",
    "mlr.fit(X,y)\n",
    "y_pred=mlr.predict(X_new)\n",
    "y_pred"
   ]
  },
  {
   "cell_type": "markdown",
   "metadata": {},
   "source": [
    "**10.Class with inheritage**\n",
    "\n",
    "Now we inherit the Metrics class in the MyLinearRegression class by passing on Metrics in the very defination of the MyLinearRegression class.\n",
    "\n",
    "We also need to add a new attribute - resid_. These are the residuals (the difference between the fitted values and true target_/output values), which are used by the methods in the Metrics perform the necessary computations."
   ]
  },
  {
   "cell_type": "code",
   "execution_count": 20,
   "metadata": {},
   "outputs": [],
   "source": [
    "class Metrics:\n",
    "    '''\n",
    "    Measure the quality of the predictions\n",
    "    '''\n",
    "              \n",
    "    def sse(self):\n",
    "        '''returns sum of squared errors (model vs actual)'''\n",
    "        squared_errors = (self.resid_) ** 2\n",
    "        self.sq_error_ = np.sum(squared_errors)\n",
    "        return self.sq_error_\n",
    "        \n",
    "    def sst(self):\n",
    "        '''returns total sum of squared errors (actual vs avg(actual))'''\n",
    "        avg_y = np.mean(self.target_)\n",
    "        squared_errors = (self.target_ - avg_y) ** 2\n",
    "        self.sst_ = np.sum(squared_errors)\n",
    "        return self.sst_\n",
    "    \n",
    "    def r_squared(self):\n",
    "        '''returns calculated value of r^2'''\n",
    "        self.r_sq_ = 1 - self.sse()/self.sst()\n",
    "        return self.r_sq_\n",
    "    \n",
    "    def adj_r_squared(self):\n",
    "        '''returns calculated value of adjusted r^2'''\n",
    "        self.adj_r_sq_ = 1 - (self.sse()/self.dfe_) / (self.sst()/self.dft_)\n",
    "        return self.adj_r_sq_\n",
    "    \n",
    "    def mse(self):\n",
    "        '''returns calculated value of mse'''\n",
    "        self.mse_ = np.mean( (self.predict(self.features_) - self.target_) ** 2 )\n",
    "        return self.mse_\n",
    "    \n",
    "    def pretty_print_stats(self):\n",
    "        '''returns report of statistics for a given model object'''\n",
    "        items = ( ('sse:', self.sse()), ('sst:', self.sst()), \n",
    "                 ('mse:', self.mse()), ('r^2:', self.r_squared()), \n",
    "                  ('adj_r^2:', self.adj_r_squared()))\n",
    "        for item in items:\n",
    "            print('{0:8} {1:.4f}'.format(item[0], item[1]))"
   ]
  },
  {
   "cell_type": "markdown",
   "metadata": {},
   "source": [
    "**11.Check inheritage**"
   ]
  },
  {
   "cell_type": "code",
   "execution_count": 26,
   "metadata": {},
   "outputs": [
    {
     "name": "stdout",
     "output_type": "stream",
     "text": [
      "SSE: 44.438499738415636\n",
      "SST: 2490.1794981592225\n",
      "r_squared 0.9821544993960214\n",
      "All metrics:\n",
      "sse:     44.4385\n",
      "sst:     2490.1795\n",
      "mse:     2.2219\n",
      "r^2:     0.9822\n",
      "adj_r^2: 0.9801\n"
     ]
    }
   ],
   "source": [
    "mlr = MyLinearRegression()\n",
    "fit=mlr.fit(X,y)\n",
    "print('SSE:', mlr.sse())\n",
    "print('SST:', mlr.sst())\n",
    "print('r_squared', mlr.r_squared())\n",
    "print('All metrics:')\n",
    "mlr.pretty_print_stats()"
   ]
  },
  {
   "cell_type": "markdown",
   "metadata": {},
   "source": [
    "## **REFERENCES**\n",
    "* [\"Understanding Object-Oriented Programming Through Machine Learning\"](https://dziganto.github.io/classes/data%20science/linear%20regression/machine%20learning/object-oriented%20programming/python/Understanding-Object-Oriented-Programming-Through-Machine-Learning/)\n",
    "* [\"Repo: Understanding Object-Oriented Programming Through Machine Learning\"](https://github.com/tirthajyoti/Machine-Learning-with-Python/blob/master/OOP_in_ML/Class_MyLinearRegression.ipynb)"
   ]
  },
  {
   "cell_type": "code",
   "execution_count": null,
   "metadata": {},
   "outputs": [],
   "source": []
  }
 ],
 "metadata": {
  "kernelspec": {
   "display_name": "Python 3",
   "language": "python",
   "name": "python3"
  },
  "language_info": {
   "codemirror_mode": {
    "name": "ipython",
    "version": 3
   },
   "file_extension": ".py",
   "mimetype": "text/x-python",
   "name": "python",
   "nbconvert_exporter": "python",
   "pygments_lexer": "ipython3",
   "version": "3.7.4"
  }
 },
 "nbformat": 4,
 "nbformat_minor": 4
}
