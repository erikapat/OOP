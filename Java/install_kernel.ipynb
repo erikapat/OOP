{
 "cells": [
  {
   "cell_type": "markdown",
   "metadata": {},
   "source": [
    "## Run Java in a Jupyter notebook"
   ]
  },
  {
   "cell_type": "markdown",
   "metadata": {},
   "source": [
    "**Step1:** install the package\n",
    "> `conda install -c conda-forge scijava-jupyter-kernel` o `conda install -c conda-forge/label/cf201901 scijava-jupyter-kernel`\n",
    "\n",
    "\n",
    "**Step2:** start the jupyter notebook\n",
    "\n",
    "\n",
    "**Step3:** select SciJava\n",
    "\n",
    "![alt text](fig/java.png \"Title\")"
   ]
  },
  {
   "cell_type": "markdown",
   "metadata": {},
   "source": [
    "## **Check if everything is working**"
   ]
  },
  {
   "cell_type": "code",
   "execution_count": 1,
   "metadata": {},
   "outputs": [
    {
     "name": "stdout",
     "output_type": "stream",
     "text": [
      "Output on stdout\n"
     ]
    }
   ],
   "source": [
    "System.out.println(\"Output on stdout\")"
   ]
  },
  {
   "cell_type": "markdown",
   "metadata": {},
   "source": [
    "## REFERENCES TO LEARN JAVA\n",
    "\n",
    "https://jupyter.brynmawr.edu/services/public/dblank/CS206%20Data%20Structures/2016-Spring/Notebooks/IntroToJava.ipynb"
   ]
  },
  {
   "cell_type": "markdown",
   "metadata": {},
   "source": [
    "https://jupyter.brynmawr.edu/services/public/dblank/CS206%20Data%20Structures/2016-Spring/Notebooks"
   ]
  },
  {
   "cell_type": "code",
   "execution_count": null,
   "metadata": {},
   "outputs": [],
   "source": []
  }
 ],
 "metadata": {
  "kernelspec": {
   "display_name": "SciJava",
   "language": "groovy",
   "name": "scijava"
  },
  "language_info": {
   "codemirror_mode": "groovy",
   "file_extension": "",
   "mimetype": "",
   "name": "scijava",
   "nbconverter_exporter": "",
   "pygments_lexer": "groovy",
   "version": "1.0"
  }
 },
 "nbformat": 4,
 "nbformat_minor": 4
}
