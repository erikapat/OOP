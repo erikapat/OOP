{
 "cells": [
  {
   "cell_type": "markdown",
   "metadata": {},
   "source": [
    "### Concepts related with Scala"
   ]
  },
  {
   "cell_type": "markdown",
   "metadata": {},
   "source": [
    "#### Define infinite loop\n",
    "\n",
    "**(Differences between val and def)**\n",
    "- def loop: Boolean = loop gives you a warning or recursivity\n",
    "\n",
    "- val x =loop (in the terminal) generates an infinite loop"
   ]
  },
  {
   "cell_type": "code",
   "execution_count": 4,
   "metadata": {},
   "outputs": [
    {
     "data": {
      "text/plain": [
       "<console>:24: warning: method loop does nothing other than call itself recursively\n",
       "       def loop: Boolean = loop\n",
       "                           ^\n",
       "loop: Boolean\n"
      ]
     },
     "execution_count": 4,
     "metadata": {},
     "output_type": "execute_result"
    }
   ],
   "source": [
    "def loop: Boolean = loop"
   ]
  },
  {
   "cell_type": "code",
   "execution_count": 5,
   "metadata": {},
   "outputs": [],
   "source": [
    "// val x =loop (run in terminal)"
   ]
  },
  {
   "cell_type": "code",
   "execution_count": 6,
   "metadata": {},
   "outputs": [
    {
     "data": {
      "text/plain": [
       "and: (x: Boolean, y: => Boolean)Boolean\n"
      ]
     },
     "execution_count": 6,
     "metadata": {},
     "output_type": "execute_result"
    }
   ],
   "source": [
    "def and(x: Boolean, y: => Boolean) = if (x) y else false"
   ]
  },
  {
   "cell_type": "code",
   "execution_count": 7,
   "metadata": {},
   "outputs": [
    {
     "data": {
      "text/plain": [
       "res2: Boolean = false\n"
      ]
     },
     "execution_count": 7,
     "metadata": {},
     "output_type": "execute_result"
    }
   ],
   "source": [
    "and(false, loop)"
   ]
  },
  {
   "cell_type": "markdown",
   "metadata": {},
   "source": [
    "#### Nested functions"
   ]
  },
  {
   "cell_type": "code",
   "execution_count": 28,
   "metadata": {},
   "outputs": [
    {
     "data": {
      "text/plain": [
       "defined object session\n"
      ]
     },
     "execution_count": 28,
     "metadata": {},
     "output_type": "execute_result"
    }
   ],
   "source": [
    "object session {\n",
    "    def abs(x: Double) = if (x < 0) -x else x\n",
    "    \n",
    "    def sqrt(x: Double)  = {\n",
    "        \n",
    "        \n",
    "        def sqrtIter(guess: Double): Double =\n",
    "            if (isGoodEnough(guess)) guess\n",
    "            else sqrtIter(improve(guess))\n",
    "    \n",
    "        def isGoodEnough(guess: Double) =\n",
    "            abs(guess * guess - x )/ x < 0.001\n",
    "        \n",
    "        def improve( guess: Double) =\n",
    "            (guess + x /guess)/2\n",
    "        \n",
    "        sqrtIter(1.0)\n",
    "    }\n",
    "}\n"
   ]
  },
  {
   "cell_type": "code",
   "execution_count": 30,
   "metadata": {},
   "outputs": [],
   "source": [
    "sqrt(2)"
   ]
  },
  {
   "cell_type": "markdown",
   "metadata": {},
   "source": [
    "#### Blocks"
   ]
  },
  {
   "cell_type": "code",
   "execution_count": 23,
   "metadata": {},
   "outputs": [
    {
     "data": {
      "text/plain": [
       "x: Int = 0\n",
       "f: (y: Int)Int\n",
       "result: Int = 16\n"
      ]
     },
     "execution_count": 23,
     "metadata": {},
     "output_type": "execute_result"
    }
   ],
   "source": [
    "val x = 0\n",
    "def f(y: Int) = y+1\n",
    "val result = { \n",
    "    val x = f(3) \n",
    "    x*x\n",
    "}"
   ]
  },
  {
   "cell_type": "markdown",
   "metadata": {},
   "source": [
    "### Tail Recursion"
   ]
  },
  {
   "cell_type": "code",
   "execution_count": 36,
   "metadata": {},
   "outputs": [
    {
     "data": {
      "text/plain": [
       "gcd: (a: Int, b: Int)Int\n",
       "res16: Int = 1\n"
      ]
     },
     "execution_count": 36,
     "metadata": {},
     "output_type": "execute_result"
    }
   ],
   "source": [
    "//@tailrec\n",
    "def gcd(a:Int, b: Int): Int=\n",
    "    if(b ==0) a else gcd(b, a%b) \n",
    "\n",
    "gcd(2, 3)"
   ]
  },
  {
   "cell_type": "code",
   "execution_count": 39,
   "metadata": {},
   "outputs": [
    {
     "data": {
      "text/plain": [
       "factorial: (n: Int)Int\n",
       "res17: Int = 6\n"
      ]
     },
     "execution_count": 39,
     "metadata": {},
     "output_type": "execute_result"
    }
   ],
   "source": [
    "def factorial(n: Int):Int =\n",
    "    if (n==0) 1 else n*factorial(n-1)\n",
    "\n",
    "factorial(3)"
   ]
  },
  {
   "cell_type": "code",
   "execution_count": 40,
   "metadata": {},
   "outputs": [
    {
     "data": {
      "text/plain": [
       "sum: (xs: List[Int])Int\n"
      ]
     },
     "execution_count": 40,
     "metadata": {},
     "output_type": "execute_result"
    }
   ],
   "source": [
    "def sum(xs: List[Int]): Int = {\n",
    "    def loop(xs: List[Int], sum: Int = 0): Int =\n",
    "      if (xs.isEmpty) sum\n",
    "      else loop(xs.tail, sum + xs.head)\n",
    "    loop(xs)\n",
    "  }"
   ]
  },
  {
   "cell_type": "code",
   "execution_count": null,
   "metadata": {},
   "outputs": [],
   "source": []
  }
 ],
 "metadata": {
  "kernelspec": {
   "display_name": "spylon-kernel",
   "language": "scala",
   "name": "spylon-kernel"
  },
  "language_info": {
   "codemirror_mode": "text/x-scala",
   "file_extension": ".scala",
   "help_links": [
    {
     "text": "MetaKernel Magics",
     "url": "https://metakernel.readthedocs.io/en/latest/source/README.html"
    }
   ],
   "mimetype": "text/x-scala",
   "name": "scala",
   "pygments_lexer": "scala",
   "version": "0.4.1"
  }
 },
 "nbformat": 4,
 "nbformat_minor": 4
}
