{
 "cells": [
  {
   "cell_type": "markdown",
   "metadata": {},
   "source": [
    "## **Magic**"
   ]
  },
  {
   "cell_type": "markdown",
   "metadata": {},
   "source": [
    "* Read this: https://www.dataquest.io/blog/jupyter-notebook-tips-tricks-shortcuts/\n",
    "* https://www.dataquest.io/blog/advanced-jupyter-notebooks-tutorial/\n",
    "* https://docs.qubole.com/en/latest/user-guide/notebooks-and-dashboards/notebooks/jupyter-notebooks/create-jupyter-notebook.html\n",
    "* https://hops.readthedocs.io/en/0.9/user_guide/hopsworks/jupyter.html\n",
    "* https://ipython.readthedocs.io/en/stable/interactive/magics.html\n",
    "* https://towardsdatascience.com/the-top-5-magic-commands-for-jupyter-notebooks-2bf0c5ae4bb8\n",
    "* https://opensource.com/article/18/4/elegant-solutions-everyday-python-problems"
   ]
  },
  {
   "cell_type": "markdown",
   "metadata": {},
   "source": [
    "## **Latex Magic**"
   ]
  },
  {
   "cell_type": "code",
   "execution_count": 2,
   "metadata": {},
   "outputs": [
    {
     "data": {
      "text/latex": [
       "\n",
       "$P(A \\mid B) = \\frac{P(B \\mid A)P(A)}{P(B)}$\n"
      ],
      "text/plain": [
       "<IPython.core.display.Latex object>"
      ]
     },
     "metadata": {},
     "output_type": "display_data"
    }
   ],
   "source": [
    "%%latex\n",
    "\n",
    "$P(A \\mid B) = \\frac{P(B \\mid A)P(A)}{P(B)}$"
   ]
  },
  {
   "cell_type": "markdown",
   "metadata": {},
   "source": [
    "## **Fortran**"
   ]
  },
  {
   "cell_type": "code",
   "execution_count": 3,
   "metadata": {},
   "outputs": [
    {
     "name": "stdout",
     "output_type": "stream",
     "text": [
      "Requirement already satisfied: fortran-magic in /Users/erikapat/anaconda3/lib/python3.7/site-packages (0.7)\n",
      "Requirement already satisfied: ipython in /Users/erikapat/anaconda3/lib/python3.7/site-packages (from fortran-magic) (7.10.1)\n",
      "Requirement already satisfied: numpy in /Users/erikapat/anaconda3/lib/python3.7/site-packages (from fortran-magic) (1.17.4)\n",
      "Requirement already satisfied: decorator in /Users/erikapat/anaconda3/lib/python3.7/site-packages (from ipython->fortran-magic) (4.4.1)\n",
      "Requirement already satisfied: setuptools>=18.5 in /Users/erikapat/anaconda3/lib/python3.7/site-packages (from ipython->fortran-magic) (42.0.2.post20191203)\n",
      "Requirement already satisfied: appnope; sys_platform == \"darwin\" in /Users/erikapat/anaconda3/lib/python3.7/site-packages (from ipython->fortran-magic) (0.1.0)\n",
      "Requirement already satisfied: prompt-toolkit!=3.0.0,!=3.0.1,<3.1.0,>=2.0.0 in /Users/erikapat/anaconda3/lib/python3.7/site-packages (from ipython->fortran-magic) (2.0.9)\n",
      "Requirement already satisfied: pygments in /Users/erikapat/anaconda3/lib/python3.7/site-packages (from ipython->fortran-magic) (2.5.2)\n",
      "Requirement already satisfied: traitlets>=4.2 in /Users/erikapat/anaconda3/lib/python3.7/site-packages (from ipython->fortran-magic) (4.3.3)\n",
      "Requirement already satisfied: pexpect; sys_platform != \"win32\" in /Users/erikapat/anaconda3/lib/python3.7/site-packages (from ipython->fortran-magic) (4.7.0)\n",
      "Requirement already satisfied: jedi>=0.10 in /Users/erikapat/anaconda3/lib/python3.7/site-packages (from ipython->fortran-magic) (0.14.1)\n",
      "Requirement already satisfied: backcall in /Users/erikapat/anaconda3/lib/python3.7/site-packages (from ipython->fortran-magic) (0.1.0)\n",
      "Requirement already satisfied: pickleshare in /Users/erikapat/anaconda3/lib/python3.7/site-packages (from ipython->fortran-magic) (0.7.5)\n",
      "Requirement already satisfied: six>=1.9.0 in /Users/erikapat/anaconda3/lib/python3.7/site-packages (from prompt-toolkit!=3.0.0,!=3.0.1,<3.1.0,>=2.0.0->ipython->fortran-magic) (1.13.0)\n",
      "Requirement already satisfied: wcwidth in /Users/erikapat/anaconda3/lib/python3.7/site-packages (from prompt-toolkit!=3.0.0,!=3.0.1,<3.1.0,>=2.0.0->ipython->fortran-magic) (0.1.7)\n",
      "Requirement already satisfied: ipython-genutils in /Users/erikapat/anaconda3/lib/python3.7/site-packages (from traitlets>=4.2->ipython->fortran-magic) (0.2.0)\n",
      "Requirement already satisfied: ptyprocess>=0.5 in /Users/erikapat/anaconda3/lib/python3.7/site-packages (from pexpect; sys_platform != \"win32\"->ipython->fortran-magic) (0.6.0)\n",
      "Requirement already satisfied: parso>=0.5.0 in /Users/erikapat/anaconda3/lib/python3.7/site-packages (from jedi>=0.10->ipython->fortran-magic) (0.5.2)\n"
     ]
    }
   ],
   "source": [
    "#!pip install cython fortran-magic\n",
    "!pip install fortran-magic"
   ]
  },
  {
   "cell_type": "code",
   "execution_count": 4,
   "metadata": {},
   "outputs": [
    {
     "name": "stderr",
     "output_type": "stream",
     "text": [
      "/Users/erikapat/anaconda3/lib/python3.7/site-packages/fortranmagic.py:147: UserWarning: get_ipython_cache_dir has moved to the IPython.paths module since IPython 4.0.\n",
      "  self._lib_dir = os.path.join(get_ipython_cache_dir(), 'fortran')\n"
     ]
    },
    {
     "data": {
      "application/javascript": [
       "new Promise(function(resolve, reject) {\n",
       "\tvar script = document.createElement(\"script\");\n",
       "\tscript.onload = resolve;\n",
       "\tscript.onerror = reject;\n",
       "\tscript.src = \"https://raw.github.com/marijnh/CodeMirror/master/mode/fortran/fortran.js\";\n",
       "\tdocument.head.appendChild(script);\n",
       "}).then(() => {\n",
       "IPython.config.cell_magic_highlight['magic_fortran'] = {'reg':[/^%%fortran/]};\n",
       "});"
      ]
     },
     "metadata": {},
     "output_type": "display_data"
    }
   ],
   "source": [
    "%load_ext fortranmagic"
   ]
  },
  {
   "cell_type": "code",
   "execution_count": 12,
   "metadata": {},
   "outputs": [
    {
     "name": "stderr",
     "output_type": "stream",
     "text": [
      "UsageError: Cell magic `%%fortran` not found.\n"
     ]
    }
   ],
   "source": [
    "%%fortran\n",
    "subroutine compute_fortran(x, y, z)\n",
    "    real, intent(in) :: x(:), y(:)\n",
    "    real, intent(out) :: z(size(x, 1))\n",
    "\n",
    "    z = sin(x + y)\n",
    "\n",
    "end subroutine compute_fortran\n",
    "\n",
    "compute_fortran([1, 2, 3], [4, 5, 6])"
   ]
  },
  {
   "cell_type": "markdown",
   "metadata": {},
   "source": [
    "## **Jupyter Extensions**"
   ]
  },
  {
   "cell_type": "code",
   "execution_count": 6,
   "metadata": {},
   "outputs": [],
   "source": [
    "#!pip install https://github.com/ipython-contrib/jupyter_contrib_nbextensions/tarball/master\n",
    "#!pip install jupyter_nbextensions_configurator\n",
    "#!jupyter contrib nbextension install --user\n",
    "#!jupyter nbextensions_configurator enable --user"
   ]
  },
  {
   "cell_type": "markdown",
   "metadata": {},
   "source": [
    "## **Interactive Widgets**"
   ]
  },
  {
   "cell_type": "markdown",
   "metadata": {},
   "source": [
    "* https://nbviewer.jupyter.org/github/quantopian/ipython/blob/master/examples/Interactive%20Widgets/Index.ipynb\n",
    "* https://github.com/quantopian/ipython/tree/master/examples/Interactive%20Widgets"
   ]
  },
  {
   "cell_type": "markdown",
   "metadata": {},
   "source": [
    "## **HTML**"
   ]
  },
  {
   "cell_type": "code",
   "execution_count": 7,
   "metadata": {},
   "outputs": [],
   "source": [
    "#!pip install folium"
   ]
  },
  {
   "cell_type": "code",
   "execution_count": 8,
   "metadata": {},
   "outputs": [],
   "source": [
    "import pandas as pd\n",
    "import folium\n",
    "from matplotlib.colors import Normalize, rgb2hex\n",
    "import matplotlib.cm as cm"
   ]
  },
  {
   "cell_type": "code",
   "execution_count": 9,
   "metadata": {},
   "outputs": [],
   "source": [
    "data = pd.read_csv('http://earthquake.usgs.gov/earthquakes/feed/v1.0/summary/all_day.csv')\n",
    "norm = Normalize(data['mag'].min(), data['mag'].max())\n",
    "\n",
    "map = folium.Map(location=[48, -102], zoom_start=3)"
   ]
  },
  {
   "cell_type": "code",
   "execution_count": 10,
   "metadata": {},
   "outputs": [],
   "source": [
    "for eq in data.iterrows():\n",
    "    color = rgb2hex(cm.OrRd(norm(float(eq[1]['mag']))))\n",
    "    folium.CircleMarker([eq[1]['latitude'], eq[1]['longitude']], \n",
    "                    popup=eq[1]['place'], \n",
    "                    radius=20000*float(eq[1]['mag']),\n",
    "                    line_color=color,\n",
    "                    fill_color=color).add_to(map)"
   ]
  },
  {
   "cell_type": "code",
   "execution_count": 11,
   "metadata": {},
   "outputs": [],
   "source": [
    "map.save('fig/earthquake.html')"
   ]
  },
  {
   "cell_type": "code",
   "execution_count": 12,
   "metadata": {},
   "outputs": [],
   "source": [
    "with open('fig/earthquake.html', 'r') as f:\n",
    "    contents = f.read()\n",
    "    contents = contents.replace(\"http://cdn.leafletjs.com/leaflet-0.5/\", \"//cdnjs.cloudflare.com/ajax/libs/leaflet/0.7.7/\")\n",
    "    with open('fig/earthquake2.html', 'w') as f:\n",
    "        f.writelines(contents)\n"
   ]
  },
  {
   "cell_type": "code",
   "execution_count": 13,
   "metadata": {},
   "outputs": [
    {
     "data": {
      "text/html": [
       "<iframe width=\"100%\" height=\"350\" src=\"https://app.dominodatalab.com/r00sj3/jupyter/raw/latest/results/earthquake2.html?inline=true\"></iframe>\n"
      ],
      "text/plain": [
       "<IPython.core.display.HTML object>"
      ]
     },
     "metadata": {},
     "output_type": "display_data"
    }
   ],
   "source": [
    "%%HTML\n",
    "<iframe width=\"100%\" height=\"350\" src=\"https://app.dominodatalab.com/r00sj3/jupyter/raw/latest/results/earthquake2.html?inline=true\"></iframe>"
   ]
  },
  {
   "cell_type": "markdown",
   "metadata": {},
   "source": [
    "## **Timing and Profiling in IPython**"
   ]
  },
  {
   "cell_type": "markdown",
   "metadata": {},
   "source": [
    "* **%time & %timeit**: See how long a script takes to run (one time, or averaged over a bunch of runs).\n",
    "* **%prun**: See how long it took each function in a script to run.\n",
    "* **%lprun**: See how long it took each line in a function to run.\n",
    "* **%mprun & %memit**: See how much memory a script uses (line-by-line, or averaged over a bunch of runs)."
   ]
  },
  {
   "cell_type": "code",
   "execution_count": 14,
   "metadata": {},
   "outputs": [
    {
     "name": "stdout",
     "output_type": "stream",
     "text": [
      "7.10.1\n"
     ]
    }
   ],
   "source": [
    "!ipython --version"
   ]
  },
  {
   "cell_type": "markdown",
   "metadata": {},
   "source": [
    "Most of the functionality we’ll work with is included in the standard library, but if you’re interested in line-by-line or memory profiling, go ahead and run through this setup. First, install the following:"
   ]
  },
  {
   "cell_type": "code",
   "execution_count": 21,
   "metadata": {},
   "outputs": [
    {
     "name": "stdout",
     "output_type": "stream",
     "text": [
      "Collecting git+https://github.com/rkern/line_profiler\n",
      "  Cloning https://github.com/rkern/line_profiler to /private/var/folders/nj/tcdmjt1954x5bp_7_l7cn2k40000gn/T/pip-req-build-vm7azbny\n",
      "  Running command git clone -q https://github.com/rkern/line_profiler /private/var/folders/nj/tcdmjt1954x5bp_7_l7cn2k40000gn/T/pip-req-build-vm7azbny\n",
      "Requirement already satisfied: IPython>=0.13 in /Users/erikapat/anaconda3/lib/python3.7/site-packages (from line-profiler==2.1.1) (7.10.1)\n",
      "Requirement already satisfied: prompt-toolkit!=3.0.0,!=3.0.1,<3.1.0,>=2.0.0 in /Users/erikapat/anaconda3/lib/python3.7/site-packages (from IPython>=0.13->line-profiler==2.1.1) (2.0.9)\n",
      "Requirement already satisfied: traitlets>=4.2 in /Users/erikapat/anaconda3/lib/python3.7/site-packages (from IPython>=0.13->line-profiler==2.1.1) (4.3.3)\n",
      "Requirement already satisfied: jedi>=0.10 in /Users/erikapat/anaconda3/lib/python3.7/site-packages (from IPython>=0.13->line-profiler==2.1.1) (0.14.1)\n",
      "Requirement already satisfied: pygments in /Users/erikapat/anaconda3/lib/python3.7/site-packages (from IPython>=0.13->line-profiler==2.1.1) (2.5.2)\n",
      "Requirement already satisfied: pexpect; sys_platform != \"win32\" in /Users/erikapat/anaconda3/lib/python3.7/site-packages (from IPython>=0.13->line-profiler==2.1.1) (4.7.0)\n",
      "Requirement already satisfied: decorator in /Users/erikapat/anaconda3/lib/python3.7/site-packages (from IPython>=0.13->line-profiler==2.1.1) (4.4.1)\n",
      "Requirement already satisfied: appnope; sys_platform == \"darwin\" in /Users/erikapat/anaconda3/lib/python3.7/site-packages (from IPython>=0.13->line-profiler==2.1.1) (0.1.0)\n",
      "Requirement already satisfied: setuptools>=18.5 in /Users/erikapat/anaconda3/lib/python3.7/site-packages (from IPython>=0.13->line-profiler==2.1.1) (42.0.2.post20191203)\n",
      "Requirement already satisfied: pickleshare in /Users/erikapat/anaconda3/lib/python3.7/site-packages (from IPython>=0.13->line-profiler==2.1.1) (0.7.5)\n",
      "Requirement already satisfied: backcall in /Users/erikapat/anaconda3/lib/python3.7/site-packages (from IPython>=0.13->line-profiler==2.1.1) (0.1.0)\n",
      "Requirement already satisfied: six>=1.9.0 in /Users/erikapat/anaconda3/lib/python3.7/site-packages (from prompt-toolkit!=3.0.0,!=3.0.1,<3.1.0,>=2.0.0->IPython>=0.13->line-profiler==2.1.1) (1.13.0)\n",
      "Requirement already satisfied: wcwidth in /Users/erikapat/anaconda3/lib/python3.7/site-packages (from prompt-toolkit!=3.0.0,!=3.0.1,<3.1.0,>=2.0.0->IPython>=0.13->line-profiler==2.1.1) (0.1.7)\n",
      "Requirement already satisfied: ipython-genutils in /Users/erikapat/anaconda3/lib/python3.7/site-packages (from traitlets>=4.2->IPython>=0.13->line-profiler==2.1.1) (0.2.0)\n",
      "Requirement already satisfied: parso>=0.5.0 in /Users/erikapat/anaconda3/lib/python3.7/site-packages (from jedi>=0.10->IPython>=0.13->line-profiler==2.1.1) (0.5.2)\n",
      "Requirement already satisfied: ptyprocess>=0.5 in /Users/erikapat/anaconda3/lib/python3.7/site-packages (from pexpect; sys_platform != \"win32\"->IPython>=0.13->line-profiler==2.1.1) (0.6.0)\n",
      "Building wheels for collected packages: line-profiler\n",
      "  Building wheel for line-profiler (setup.py) ... \u001b[?25ldone\n",
      "\u001b[?25h  Created wheel for line-profiler: filename=line_profiler-2.1.1-cp37-cp37m-macosx_10_9_x86_64.whl size=50311 sha256=509dcd9a854e4af5c27f21d910e1cd33491d0b33973acf4e2eb3694f91c7e74e\n",
      "  Stored in directory: /private/var/folders/nj/tcdmjt1954x5bp_7_l7cn2k40000gn/T/pip-ephem-wheel-cache-boxnqmu7/wheels/b4/47/93/4e928668fc33778c7757bb92035808038f5e53dfc5dd9aee1a\n",
      "Successfully built line-profiler\n",
      "Installing collected packages: line-profiler\n",
      "Successfully installed line-profiler-2.1.1\n"
     ]
    }
   ],
   "source": [
    "#!pip install line-profiler #does not work\n",
    "!pip install git+https://github.com/rkern/line_profiler"
   ]
  },
  {
   "cell_type": "code",
   "execution_count": 15,
   "metadata": {},
   "outputs": [],
   "source": [
    "#!pip install psutil\n",
    "#!pip install memory_profiler"
   ]
  },
  {
   "cell_type": "markdown",
   "metadata": {},
   "source": [
    "Next, create an IPython profile and extensions directory where we’ll configure a couple of missing magic functions:"
   ]
  },
  {
   "cell_type": "code",
   "execution_count": 16,
   "metadata": {},
   "outputs": [],
   "source": [
    "!ipython profile create"
   ]
  },
  {
   "cell_type": "markdown",
   "metadata": {},
   "source": [
    "See how long a script takes to run averaged over multiple runs."
   ]
  },
  {
   "cell_type": "code",
   "execution_count": 32,
   "metadata": {},
   "outputs": [],
   "source": [
    "from past.builtins import xrange"
   ]
  },
  {
   "cell_type": "code",
   "execution_count": 33,
   "metadata": {},
   "outputs": [
    {
     "name": "stdout",
     "output_type": "stream",
     "text": [
      "CPU times: user 286 ms, sys: 1.73 ms, total: 288 ms\n",
      "Wall time: 287 ms\n"
     ]
    },
    {
     "data": {
      "text/plain": [
       "{1}"
      ]
     },
     "execution_count": 33,
     "metadata": {},
     "output_type": "execute_result"
    }
   ],
   "source": [
    "%time {1 for i in xrange(10*1000000)}"
   ]
  },
  {
   "cell_type": "markdown",
   "metadata": {},
   "source": [
    "It will limit the number of runs depending on how long the script takes to execute. Keep in mind that the timeit module in the standard library does not do this by default, so timing long running scripts that way may leave you waiting forever."
   ]
  },
  {
   "cell_type": "code",
   "execution_count": 6,
   "metadata": {},
   "outputs": [
    {
     "name": "stdout",
     "output_type": "stream",
     "text": [
      "6.63 ns ± 0.145 ns per loop (mean ± std. dev. of 7 runs, 100000000 loops each)\n"
     ]
    }
   ],
   "source": [
    "%timeit 10*1000000"
   ]
  },
  {
   "cell_type": "code",
   "execution_count": 7,
   "metadata": {},
   "outputs": [
    {
     "name": "stdout",
     "output_type": "stream",
     "text": [
      "9.29 ns ± 0.143 ns per loop (mean ± std. dev. of 7 runs, 1000 loops each)\n"
     ]
    }
   ],
   "source": [
    "%timeit -n 1000 10*1000000"
   ]
  },
  {
   "cell_type": "markdown",
   "metadata": {},
   "source": [
    "**%prun**: See how long it took each function in a script to run."
   ]
  },
  {
   "cell_type": "code",
   "execution_count": 8,
   "metadata": {},
   "outputs": [],
   "source": [
    "from time import sleep"
   ]
  },
  {
   "cell_type": "code",
   "execution_count": 9,
   "metadata": {},
   "outputs": [],
   "source": [
    "def foo(): sleep(1)"
   ]
  },
  {
   "cell_type": "code",
   "execution_count": 10,
   "metadata": {},
   "outputs": [],
   "source": [
    "def bar(): sleep(2)"
   ]
  },
  {
   "cell_type": "code",
   "execution_count": 11,
   "metadata": {},
   "outputs": [],
   "source": [
    "def baz(): foo(), bar()"
   ]
  },
  {
   "cell_type": "code",
   "execution_count": 12,
   "metadata": {},
   "outputs": [
    {
     "name": "stdout",
     "output_type": "stream",
     "text": [
      " "
     ]
    },
    {
     "data": {
      "text/plain": [
       "         8 function calls in 3.005 seconds\n",
       "\n",
       "   Ordered by: internal time\n",
       "\n",
       "   ncalls  tottime  percall  cumtime  percall filename:lineno(function)\n",
       "        2    3.005    1.503    3.005    1.503 {built-in method time.sleep}\n",
       "        1    0.000    0.000    3.005    3.005 {built-in method builtins.exec}\n",
       "        1    0.000    0.000    3.005    3.005 <ipython-input-11-aeee66c4e941>:1(baz)\n",
       "        1    0.000    0.000    2.005    2.005 <ipython-input-10-1428f9fb0b95>:1(bar)\n",
       "        1    0.000    0.000    1.000    1.000 <ipython-input-9-a559e91038d2>:1(foo)\n",
       "        1    0.000    0.000    3.005    3.005 <string>:1(<module>)\n",
       "        1    0.000    0.000    0.000    0.000 {method 'disable' of '_lsprof.Profiler' objects}"
      ]
     },
     "metadata": {},
     "output_type": "display_data"
    }
   ],
   "source": [
    "%prun baz()"
   ]
  },
  {
   "cell_type": "markdown",
   "metadata": {},
   "source": [
    "**%lprun**:\n",
    "See how long it took each line in a function to run."
   ]
  },
  {
   "cell_type": "code",
   "execution_count": 1,
   "metadata": {},
   "outputs": [],
   "source": [
    "from foo import foo\n",
    "import sys"
   ]
  },
  {
   "cell_type": "code",
   "execution_count": 2,
   "metadata": {},
   "outputs": [],
   "source": [
    "%load_ext line_profiler"
   ]
  },
  {
   "cell_type": "code",
   "execution_count": 3,
   "metadata": {},
   "outputs": [
    {
     "data": {
      "text/plain": [
       "Timer unit: 1e-06 s\n",
       "\n",
       "Total time: 0.101883 s\n",
       "File: /Users/erikapat/Dropbox/PRUEBAS_DATA_SCIENCE/OOP/Python/foo.py\n",
       "Function: foo at line 4\n",
       "\n",
       "Line #      Hits         Time  Per Hit   % Time  Line Contents\n",
       "==============================================================\n",
       "     4                                           def foo(n):\n",
       "     5         1       7197.0   7197.0      7.1      from past.builtins import xrange\n",
       "     6         1          2.0      2.0      0.0      phrase = 'repeat me'\n",
       "     7         1        464.0    464.0      0.5      pmul = phrase * n\n",
       "     8         1      13340.0  13340.0     13.1      pjoi = ''.join([phrase for x in xrange(n)])\n",
       "     9         1          1.0      1.0      0.0      pinc = ''\n",
       "    10    100001      34145.0      0.3     33.5      for x in xrange(n):\n",
       "    11    100000      46730.0      0.5     45.9          pinc += phrase\n",
       "    12         1          4.0      4.0      0.0      del pmul, pjoi, pinc"
      ]
     },
     "metadata": {},
     "output_type": "display_data"
    }
   ],
   "source": [
    "%lprun -f foo foo(100000)"
   ]
  },
  {
   "cell_type": "markdown",
   "metadata": {},
   "source": [
    "## **Memory Profiling**\n",
    "\n",
    "See how much memory a script uses line by line. Let’s take a look at the same foo() function that we profiled with %lprun - except this time we’re interested in incremental memory usage and not execution time."
   ]
  },
  {
   "cell_type": "code",
   "execution_count": 7,
   "metadata": {},
   "outputs": [
    {
     "name": "stdout",
     "output_type": "stream",
     "text": [
      "The memory_profiler extension is already loaded. To reload it, use:\n",
      "  %reload_ext memory_profiler\n"
     ]
    }
   ],
   "source": [
    "%load_ext memory_profiler"
   ]
  },
  {
   "cell_type": "code",
   "execution_count": 8,
   "metadata": {},
   "outputs": [
    {
     "name": "stdout",
     "output_type": "stream",
     "text": [
      "\n"
     ]
    },
    {
     "data": {
      "text/plain": [
       "Filename: /Users/erikapat/Dropbox/PRUEBAS_DATA_SCIENCE/OOP/Python/foo.py\n",
       "\n",
       "Line #    Mem usage    Increment   Line Contents\n",
       "================================================\n",
       "     4     59.0 MiB     59.0 MiB   def foo(n):\n",
       "     5     59.0 MiB      0.0 MiB       from past.builtins import xrange\n",
       "     6     59.0 MiB      0.0 MiB       phrase = 'repeat me'\n",
       "     7     59.0 MiB      0.0 MiB       pmul = phrase * n\n",
       "     8     59.6 MiB      0.0 MiB       pjoi = ''.join([phrase for x in xrange(n)])\n",
       "     9     59.6 MiB      0.0 MiB       pinc = ''\n",
       "    10     62.9 MiB      0.0 MiB       for x in xrange(n):\n",
       "    11     62.9 MiB      0.0 MiB           pinc += phrase\n",
       "    12     60.4 MiB      0.0 MiB       del pmul, pjoi, pinc"
      ]
     },
     "metadata": {},
     "output_type": "display_data"
    }
   ],
   "source": [
    "%mprun -f foo foo(100000)"
   ]
  },
  {
   "cell_type": "markdown",
   "metadata": {},
   "source": [
    "**%memit**:\n",
    "See how much memory a script uses overall. %memit works a lot like %timeit except that the number of iterations is set with -r instead of -n."
   ]
  },
  {
   "cell_type": "code",
   "execution_count": 10,
   "metadata": {},
   "outputs": [
    {
     "name": "stdout",
     "output_type": "stream",
     "text": [
      "peak memory: 88.77 MiB, increment: 29.38 MiB\n"
     ]
    }
   ],
   "source": [
    "from past.builtins import xrange\n",
    "%memit -r 3 [x for x in xrange(1000000)]"
   ]
  },
  {
   "cell_type": "code",
   "execution_count": 11,
   "metadata": {},
   "outputs": [
    {
     "name": "stdout",
     "output_type": "stream",
     "text": [
      " --- modulename: foo, funcname: <module>\n",
      "foo.py(4): def foo(n):\n"
     ]
    }
   ],
   "source": [
    "!python -m trace --trace foo.py"
   ]
  },
  {
   "cell_type": "markdown",
   "metadata": {},
   "source": [
    "## **Shell commands**"
   ]
  },
  {
   "cell_type": "code",
   "execution_count": 14,
   "metadata": {},
   "outputs": [
    {
     "name": "stdout",
     "output_type": "stream",
     "text": [
      "Hello World!!\n"
     ]
    }
   ],
   "source": [
    "!echo Hello World!!"
   ]
  },
  {
   "cell_type": "code",
   "execution_count": 18,
   "metadata": {},
   "outputs": [
    {
     "name": "stdout",
     "output_type": "stream",
     "text": [
      "numpy==1.17.4\n",
      "numpydoc==0.9.1\n",
      "Note: you may need to restart the kernel to use updated packages.\n"
     ]
    }
   ],
   "source": [
    "pip freeze | grep numpy"
   ]
  },
  {
   "cell_type": "code",
   "execution_count": null,
   "metadata": {},
   "outputs": [],
   "source": []
  }
 ],
 "metadata": {
  "kernelspec": {
   "display_name": "Python 3",
   "language": "python",
   "name": "python3"
  },
  "language_info": {
   "codemirror_mode": {
    "name": "ipython",
    "version": 3
   },
   "file_extension": ".py",
   "mimetype": "text/x-python",
   "name": "python",
   "nbconvert_exporter": "python",
   "pygments_lexer": "ipython3",
   "version": "3.7.4"
  }
 },
 "nbformat": 4,
 "nbformat_minor": 4
}
