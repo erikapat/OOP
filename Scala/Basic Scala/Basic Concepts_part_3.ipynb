{
 "cells": [
  {
   "cell_type": "markdown",
   "metadata": {},
   "source": [
    "### OOP"
   ]
  },
  {
   "cell_type": "markdown",
   "metadata": {},
   "source": [
    "Package for rational numbers"
   ]
  },
  {
   "cell_type": "code",
   "execution_count": 17,
   "metadata": {},
   "outputs": [],
   "source": [
    "//from utils import empty"
   ]
  },
  {
   "cell_type": "markdown",
   "metadata": {},
   "source": [
    "1.- Define de class"
   ]
  },
  {
   "cell_type": "code",
   "execution_count": 2,
   "metadata": {},
   "outputs": [
    {
     "data": {
      "text/plain": [
       "defined class Rational\n"
      ]
     },
     "execution_count": 2,
     "metadata": {},
     "output_type": "execute_result"
    }
   ],
   "source": [
    "class Rational (x:Int, y: Int){\n",
    "    def number = x\n",
    "    def denom = y\n",
    "}"
   ]
  },
  {
   "cell_type": "code",
   "execution_count": 3,
   "metadata": {},
   "outputs": [
    {
     "data": {
      "text/plain": [
       "res0: Rational = Rational@873d3a6\n"
      ]
     },
     "execution_count": 3,
     "metadata": {},
     "output_type": "execute_result"
    }
   ],
   "source": [
    "new Rational(1, 2) //create and object"
   ]
  },
  {
   "cell_type": "markdown",
   "metadata": {},
   "source": [
    "2.- Create the object with the class"
   ]
  },
  {
   "cell_type": "code",
   "execution_count": 4,
   "metadata": {},
   "outputs": [
    {
     "data": {
      "text/plain": [
       "defined object rationals\n",
       "defined class Rational\n"
      ]
     },
     "execution_count": 4,
     "metadata": {},
     "output_type": "execute_result"
    }
   ],
   "source": [
    "object rationals {\n",
    "    val x = new Rational(1,2)\n",
    "    println(x.numer)\n",
    "    println(x.denom)\n",
    "    \n",
    "}\n",
    "\n",
    "class Rational(x: Int, y: Int){\n",
    "    def numer = x\n",
    "    def denom = y\n",
    "}\n",
    "\n"
   ]
  },
  {
   "cell_type": "markdown",
   "metadata": {},
   "source": [
    "3.- Create other classes"
   ]
  },
  {
   "cell_type": "code",
   "execution_count": 5,
   "metadata": {},
   "outputs": [
    {
     "data": {
      "text/plain": [
       "addRational: (r: Rational, s: Rational)Rational\n",
       "makeString: (r: Rational)String\n",
       "res1: String = 7/6\n"
      ]
     },
     "execution_count": 5,
     "metadata": {},
     "output_type": "execute_result"
    }
   ],
   "source": [
    "def addRational(r: Rational, s: Rational): Rational =\n",
    "    new Rational(\n",
    "        r.numer*s.denom+s.numer*r.denom,\n",
    "        r.denom*s.denom\n",
    "    )\n",
    "\n",
    "def makeString(r:Rational) =\n",
    "    r.numer + \"/\" + r.denom\n",
    "\n",
    "makeString(addRational(new Rational(1,2), new Rational(2, 3))) "
   ]
  },
  {
   "cell_type": "markdown",
   "metadata": {},
   "source": [
    "4.- Include these new functions in the object & Neg functions to sustract rational numbers"
   ]
  },
  {
   "cell_type": "code",
   "execution_count": 30,
   "metadata": {},
   "outputs": [
    {
     "data": {
      "text/plain": [
       "defined object rationals\n",
       "defined class Rational\n"
      ]
     },
     "execution_count": 30,
     "metadata": {},
     "output_type": "execute_result"
    }
   ],
   "source": [
    "object rationals {\n",
    "    val x = new Rational(1,3)\n",
    "    val y = new Rational(5,7)\n",
    "    val z = new Rational(3,2)\n",
    "    \n",
    "    x.add(y)         //x + y\n",
    "    x.sub(y).sub(z) // x - y - z\n",
    "    y.add(y)\n",
    "    \n",
    "}\n",
    "\n",
    "class Rational(x: Int, y: Int){\n",
    "    def numer = x\n",
    "    def denom = y\n",
    "    \n",
    "    def add(that: Rational) =\n",
    "    new Rational(\n",
    "        numer*that.denom+that.numer*denom,\n",
    "        denom*that.denom\n",
    "    )\n",
    "    \n",
    "    def neg: Rational = new Rational(-numer, denom)\n",
    "    def sub(that: Rational) = add(that.neg)\n",
    "    \n",
    "    override  def toString = numer + \"/\" + denom \n",
    "}\n",
    "\n"
   ]
  },
  {
   "cell_type": "markdown",
   "metadata": {},
   "source": [
    "5.- Define private menbers: elements of the code that can only be accessfrom inside the Rational class"
   ]
  },
  {
   "cell_type": "raw",
   "metadata": {},
   "source": [
    "class Rational(x: Int, y: Int){\n",
    "    private def gdc(a: Int, b: Int): Int = if (b == 0) a else gcd(b, a%b)\n",
    "    private val g = gcd(x,y)\n",
    "    def numer = x/g\n",
    "    def denom = y/g\n",
    "    ...\n",
    "}\n",
    "\n",
    "or better ...\n",
    "\n",
    "class Rational(x: Int, y: Int){\n",
    "    private def gdc(a: Int, b: Int): Int = if (b == 0) a else gcd(b, a%b)\n",
    "    def numer = x/gcd(x,y)\n",
    "    def denom = y/gcd(x,y)\n",
    "    ...\n",
    "}\n",
    "\n",
    "or better ..\n",
    "class Rational(x: Int, y: Int){\n",
    "    private def gdc(a: Int, b: Int): Int = if (b == 0) a else gcd(b, a%b)\n",
    "    val numer = x/gcd(x,y)\n",
    "    val  denom = y/gcd(x,y)\n",
    "    ...\n",
    "}"
   ]
  },
  {
   "cell_type": "markdown",
   "metadata": {},
   "source": [
    "6.- Include the above in the object and use **this**\n",
    "\n",
    "**this** = represents the object on which the current method is executed"
   ]
  },
  {
   "cell_type": "code",
   "execution_count": 39,
   "metadata": {},
   "outputs": [
    {
     "data": {
      "text/plain": [
       "defined object rationals\n",
       "defined class Rational\n"
      ]
     },
     "execution_count": 39,
     "metadata": {},
     "output_type": "execute_result"
    }
   ],
   "source": [
    "object rationals {\n",
    "    val x = new Rational(1,3)\n",
    "    val y = new Rational(5,7)\n",
    "    val z = new Rational(3,2)\n",
    "    \n",
    "    x.add(y)         //x + y\n",
    "    x.sub(y).sub(z) // x - y - z\n",
    "    y.add(y)\n",
    "    x.less(y)\n",
    "    x.max(y)\n",
    "    \n",
    "    \n",
    "}\n",
    "\n",
    "class Rational(x: Int, y: Int){\n",
    "    private def gdc(a: Int, b: Int): Int = if (b == 0) a else gdc(b, a%b)\n",
    "    def numer = x/gdc(x,y)\n",
    "    def denom  = y/gdc(x,y)\n",
    "    \n",
    "    def less(that: Rational) = this.numer*that.denom < that.numer*this.denom\n",
    "    def max(that: Rational) = if (this.less(that)) that else this\n",
    "    \n",
    "    def add(that: Rational) =\n",
    "    new Rational(\n",
    "        numer*that.denom+that.numer*denom,\n",
    "        denom*that.denom\n",
    "    )\n",
    "    \n",
    "    def neg: Rational = new Rational(-numer, denom)\n",
    "    def sub(that: Rational) = add(that.neg)\n",
    "    \n",
    "    override  def toString = numer + \"/\" + denom \n",
    "}\n",
    "\n",
    "\n"
   ]
  },
  {
   "cell_type": "markdown",
   "metadata": {},
   "source": [
    "7.- Include restrictions"
   ]
  },
  {
   "cell_type": "markdown",
   "metadata": {},
   "source": [
    "- require( y!= 0, \"denominator must ne nonzero\") // enforce a precondition\n",
    "\n",
    "//or assert\n",
    "\n",
    "- assert(x >= 0) //check the code"
   ]
  },
  {
   "cell_type": "code",
   "execution_count": 40,
   "metadata": {},
   "outputs": [
    {
     "data": {
      "text/plain": [
       "defined object rationals\n",
       "defined class Rational\n"
      ]
     },
     "execution_count": 40,
     "metadata": {},
     "output_type": "execute_result"
    }
   ],
   "source": [
    "object rationals {\n",
    "    val x = new Rational(1,3)\n",
    "    val y = new Rational(5,7)\n",
    "    val z = new Rational(3,2)\n",
    "    \n",
    "    x.add(y)         //x + y\n",
    "    x.sub(y).sub(z) // x - y - z\n",
    "    y.add(y)\n",
    "    x.less(y)\n",
    "    x.max(y)\n",
    "    \n",
    "    \n",
    "}\n",
    "\n",
    "class Rational(x: Int, y: Int){\n",
    "    require( y!= 0, \"denominator must ne nonzero\") // restriction or predefined function or assert\n",
    "    \n",
    "    private def gdc(a: Int, b: Int): Int = if (b == 0) a else gdc(b, a%b)\n",
    "    def numer = x/gdc(x,y)\n",
    "    def denom  = y/gdc(x,y)\n",
    "    \n",
    "    def less(that: Rational) = this.numer*that.denom < that.numer*this.denom\n",
    "    def max(that: Rational) = if (this.less(that)) that else this\n",
    "    \n",
    "    def add(that: Rational) =\n",
    "    new Rational(\n",
    "        numer*that.denom+that.numer*denom,\n",
    "        denom*that.denom\n",
    "    )\n",
    "    \n",
    "    def neg: Rational = new Rational(-numer, denom)\n",
    "    def sub(that: Rational) = add(that.neg)\n",
    "    \n",
    "    override  def toString = numer + \"/\" + denom \n",
    "}\n",
    "\n"
   ]
  },
  {
   "cell_type": "markdown",
   "metadata": {},
   "source": [
    "8. Constructors"
   ]
  },
  {
   "cell_type": "code",
   "execution_count": 43,
   "metadata": {},
   "outputs": [
    {
     "data": {
      "text/plain": [
       "defined object rationals\n",
       "defined class Rational\n"
      ]
     },
     "execution_count": 43,
     "metadata": {},
     "output_type": "execute_result"
    }
   ],
   "source": [
    "object rationals {\n",
    "    val x = new Rational(1,3)\n",
    "    val y = new Rational(5,7)\n",
    "    val z = new Rational(3,2)\n",
    "    \n",
    "    x.add(y)         //x + y\n",
    "    x.sub(y).sub(z) // x - y - z\n",
    "    y.add(y)\n",
    "    x.less(y)\n",
    "    x.max(y)\n",
    "    new Rational (2)\n",
    "    \n",
    "    \n",
    "}\n",
    "\n",
    "class Rational(x: Int, y: Int){\n",
    "    \n",
    "    // constructor\n",
    "    require( y!= 0, \"denominator must ne nonzero\") // restriction or predefined function or assert\n",
    "    private def gdc(a: Int, b: Int): Int = if (b == 0) a else gdc(b, a%b)\n",
    "    //\n",
    "    \n",
    "    //other constructor\n",
    "    def this(x:Int) =this(x, 1)\n",
    "    //\n",
    "    \n",
    "    def numer = x\n",
    "    def denom = y\n",
    "    \n",
    "    def less(that: Rational) = this.numer*that.denom < that.numer*this.denom\n",
    "    def max(that: Rational) = if (this.less(that)) that else this\n",
    "    \n",
    "    def add(that: Rational) =\n",
    "    new Rational(\n",
    "        numer*that.denom+that.numer*denom,\n",
    "        denom*that.denom\n",
    "    )\n",
    "    \n",
    "    def neg: Rational = new Rational(-numer, denom)\n",
    "    def sub(that: Rational) = add(that.neg)\n",
    "    \n",
    "    override  def toString = {\n",
    "        val g = gdc(numer, denom)\n",
    "        numer/g + \"/\" + denom/g \n",
    "    }\n",
    "}"
   ]
  },
  {
   "cell_type": "markdown",
   "metadata": {},
   "source": [
    "9. Change names by Identifiers"
   ]
  },
  {
   "cell_type": "code",
   "execution_count": 49,
   "metadata": {},
   "outputs": [
    {
     "data": {
      "text/plain": [
       "defined object rationals\n",
       "defined class Rational\n"
      ]
     },
     "execution_count": 49,
     "metadata": {},
     "output_type": "execute_result"
    }
   ],
   "source": [
    "object rationals {\n",
    "    val x = new Rational(1,3)\n",
    "    val y = new Rational(5,7)\n",
    "    val z = new Rational(3,2)\n",
    "    \n",
    "    x+ y         //x + y\n",
    "    x - y - z\n",
    "    y + y\n",
    "    x < y //changed \n",
    "    x max y \n",
    "    new Rational (2)\n",
    "    \n",
    "    \n",
    "}\n",
    "\n",
    "class Rational(x: Int, y: Int){\n",
    "    \n",
    "    // constructor\n",
    "    require( y!= 0, \"denominator must ne nonzero\") // restriction or predefined function or assert\n",
    "    private def gdc(a: Int, b: Int): Int = if (b == 0) a else gdc(b, a%b)\n",
    "    //\n",
    "    \n",
    "    //other constructor\n",
    "    def this(x:Int) =this(x, 1)\n",
    "    //\n",
    "    \n",
    "    def numer = x\n",
    "    def denom = y\n",
    "    \n",
    "    def < (that: Rational) = this.numer*that.denom < that.numer*this.denom // < instead less\n",
    "    def max(that: Rational) = if (this < (that)) that else this // note the change now we put here < instead less\n",
    "    \n",
    "    def + (that: Rational) =  //changed add by +\n",
    "    new Rational(\n",
    "        numer*that.denom+that.numer*denom,\n",
    "        denom*that.denom\n",
    "    )\n",
    "    \n",
    "    def unary_- : Rational = new Rational(-numer, denom) // we change neg by unary_- in order to use the sign '-'\n",
    "    def -(that: Rational) = this + -that // insterad of this + that.neg\n",
    "    \n",
    "    override  def toString = {\n",
    "        val g = gdc(numer, denom)\n",
    "        numer/g + \"/\" + denom/g \n",
    "    }\n",
    "}"
   ]
  },
  {
   "cell_type": "code",
   "execution_count": null,
   "metadata": {},
   "outputs": [],
   "source": []
  }
 ],
 "metadata": {
  "kernelspec": {
   "display_name": "spylon-kernel",
   "language": "scala",
   "name": "spylon-kernel"
  },
  "language_info": {
   "codemirror_mode": "text/x-scala",
   "file_extension": ".scala",
   "help_links": [
    {
     "text": "MetaKernel Magics",
     "url": "https://metakernel.readthedocs.io/en/latest/source/README.html"
    }
   ],
   "mimetype": "text/x-scala",
   "name": "scala",
   "pygments_lexer": "scala",
   "version": "0.4.1"
  }
 },
 "nbformat": 4,
 "nbformat_minor": 4
}
