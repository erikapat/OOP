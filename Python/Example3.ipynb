{
 "cells": [
  {
   "cell_type": "markdown",
   "metadata": {},
   "source": [
    "## **OOP: EXAMPLE 3**\n",
    "\n",
    "1. Extract functions from **Example 1** (Define a method to calculate different mathematical operations), save it in a file, load it and finally use it."
   ]
  },
  {
   "cell_type": "code",
   "execution_count": 2,
   "metadata": {},
   "outputs": [
    {
     "name": "stdout",
     "output_type": "stream",
     "text": [
      "The autoreload extension is already loaded. To reload it, use:\n",
      "  %reload_ext autoreload\n"
     ]
    }
   ],
   "source": [
    "%load_ext autoreload\n",
    "%autoreload 2\n",
    "# load my own functions\n",
    "from utils.Calc import *"
   ]
  },
  {
   "cell_type": "code",
   "execution_count": 3,
   "metadata": {},
   "outputs": [
    {
     "data": {
      "text/plain": [
       "4"
      ]
     },
     "execution_count": 3,
     "metadata": {},
     "output_type": "execute_result"
    }
   ],
   "source": [
    "## Execution\n",
    "a= 2\n",
    "b= 2\n",
    "x = Calc(a,b)\n",
    "x.add()"
   ]
  },
  {
   "cell_type": "markdown",
   "metadata": {},
   "source": [
    "*************************************\n",
    "\n",
    "2. Extract functions from **Example 2** (Build a simple linear regression estimator class following the OOP paradigm), save it in a file, load it and finally use it.\n",
    "\n",
    "### **First Alternative**"
   ]
  },
  {
   "cell_type": "code",
   "execution_count": 11,
   "metadata": {},
   "outputs": [
    {
     "name": "stdout",
     "output_type": "stream",
     "text": [
      "The autoreload extension is already loaded. To reload it, use:\n",
      "  %reload_ext autoreload\n"
     ]
    }
   ],
   "source": [
    "%load_ext autoreload\n",
    "%autoreload 2\n",
    "# load my own functions\n",
    "from utils.MyLinearRegression import *"
   ]
  },
  {
   "cell_type": "code",
   "execution_count": 12,
   "metadata": {},
   "outputs": [],
   "source": [
    "mlr = MyLinearRegression()"
   ]
  },
  {
   "cell_type": "code",
   "execution_count": 13,
   "metadata": {},
   "outputs": [],
   "source": [
    "X = 10*np.random.random(size=(20,2))\n",
    "y = 3.5*X.T[0]-1.2*X.T[1]+2*np.random.randn(20)"
   ]
  },
  {
   "cell_type": "code",
   "execution_count": 14,
   "metadata": {},
   "outputs": [],
   "source": [
    "mlr.fit(X,y)"
   ]
  },
  {
   "cell_type": "code",
   "execution_count": 15,
   "metadata": {},
   "outputs": [
    {
     "name": "stdout",
     "output_type": "stream",
     "text": [
      "We have fitted the data.\n",
      "Regression coefficients: [ 3.29143065 -0.99441328]\n",
      "The intercept term is given by:  -0.2457721649029594\n"
     ]
    }
   ],
   "source": [
    "print(\"We have fitted the data.\")\n",
    "print(\"Regression coefficients:\", mlr.coef_)\n",
    "print(\"The intercept term is given by: \", mlr.intercept_)"
   ]
  },
  {
   "cell_type": "markdown",
   "metadata": {},
   "source": [
    "### **Second Alternative**"
   ]
  },
  {
   "cell_type": "code",
   "execution_count": 16,
   "metadata": {},
   "outputs": [],
   "source": [
    "from MyLinearRegressionClass import MyLinearRegression as mlr\n",
    "import numpy as np\n",
    "import matplotlib.pyplot as plt"
   ]
  },
  {
   "cell_type": "code",
   "execution_count": 17,
   "metadata": {},
   "outputs": [],
   "source": [
    "num_samples=40\n",
    "num_dim = 5\n",
    "X = 10*np.random.random(size=(num_samples,num_dim))\n",
    "coeff = np.array([2,-3.5,1.2,4.1,-2.5])\n",
    "y = np.dot(coeff,X.T)+10*np.random.randn(num_samples)"
   ]
  },
  {
   "cell_type": "code",
   "execution_count": 18,
   "metadata": {},
   "outputs": [],
   "source": [
    "model = mlr()"
   ]
  },
  {
   "cell_type": "code",
   "execution_count": 19,
   "metadata": {},
   "outputs": [],
   "source": [
    "model.ingest_data(X,y)"
   ]
  },
  {
   "cell_type": "code",
   "execution_count": 20,
   "metadata": {},
   "outputs": [
    {
     "data": {
      "text/plain": [
       "array([[9.50832053, 4.69873457, 7.30492029, 8.24567096, 6.5035443 ],\n",
       "       [0.94867602, 6.80409561, 8.97250613, 0.88215575, 2.48113761],\n",
       "       [9.037479  , 7.14792068, 3.44068911, 5.73528237, 8.34572629],\n",
       "       [3.86547957, 5.83773383, 9.06239632, 9.61971094, 9.96188424],\n",
       "       [7.75326153, 9.95060943, 6.892683  , 3.93338085, 3.48408685],\n",
       "       [4.34351965, 3.45599078, 4.31943089, 8.89492319, 0.91847951],\n",
       "       [1.79613916, 2.63379873, 3.79245984, 9.6992359 , 8.03827075],\n",
       "       [3.55077295, 7.88969098, 6.64310709, 1.00221497, 5.73637532],\n",
       "       [3.86564008, 7.27428484, 6.12608758, 1.33869322, 0.9908468 ],\n",
       "       [6.85375206, 8.07432389, 3.64559702, 7.66709763, 0.02934221]])"
      ]
     },
     "execution_count": 20,
     "metadata": {},
     "output_type": "execute_result"
    }
   ],
   "source": [
    "model.features_[:10]"
   ]
  },
  {
   "cell_type": "markdown",
   "metadata": {},
   "source": [
    "#### **Fit the model with fit**"
   ]
  },
  {
   "cell_type": "code",
   "execution_count": 22,
   "metadata": {},
   "outputs": [],
   "source": [
    "model.fit()"
   ]
  },
  {
   "cell_type": "code",
   "execution_count": 24,
   "metadata": {},
   "outputs": [
    {
     "name": "stdout",
     "output_type": "stream",
     "text": [
      "R-squared:  0.8441062527631279\n",
      "Adjusted R-squared:  0.8211807016988819\n",
      "MSE:  86.21159188226451\n"
     ]
    }
   ],
   "source": [
    "# print parameters\n",
    "print (\"R-squared: \",model.r_squared())\n",
    "print (\"Adjusted R-squared: \",model.adj_r_squared())\n",
    "print(\"MSE: \",model.mse())"
   ]
  },
  {
   "cell_type": "code",
   "execution_count": 25,
   "metadata": {},
   "outputs": [
    {
     "name": "stdout",
     "output_type": "stream",
     "text": [
      "P-values: [8.99354443e-01 1.37068801e-03 1.50144078e-07 3.44614395e-01\n",
      " 4.67320113e-09 6.93903915e-04]\n",
      "t-test values: [ 0.12742533  3.48653965 -6.58760302  0.95842554  7.78343114 -3.73153592]\n",
      "Standard errors: [6.63936285 0.58536125 0.56802351 0.68347235 0.51679313 0.59834872]\n"
     ]
    }
   ],
   "source": [
    "print(\"P-values:\",model.pvalues())\n",
    "print(\"t-test values:\",model.tvalues())\n",
    "print(\"Standard errors:\",model.std_err())"
   ]
  },
  {
   "cell_type": "code",
   "execution_count": 26,
   "metadata": {},
   "outputs": [
    {
     "data": {
      "image/png": "[encoded data removed]",
      "text/plain": [
       "<Figure size 432x288 with 1 Axes>"
      ]
     },
     "metadata": {
      "needs_background": "light"
     },
     "output_type": "display_data"
    }
   ],
   "source": [
    "# Fitted vs. residuals plot (to check for linearity and homoscadasticity)\n",
    "model.fitted_vs_residual()"
   ]
  },
  {
   "cell_type": "code",
   "execution_count": 27,
   "metadata": {},
   "outputs": [
    {
     "data": {
      "image/png": "[encoded data removed]",
      "text/plain": [
       "<Figure size 1080x504 with 6 Axes>"
      ]
     },
     "metadata": {
      "needs_background": "light"
     },
     "output_type": "display_data"
    }
   ],
   "source": [
    "#Fitted values vs. feature variables\n",
    "model.fitted_vs_features()"
   ]
  },
  {
   "cell_type": "code",
   "execution_count": null,
   "metadata": {},
   "outputs": [
    {
     "name": "stdout",
     "output_type": "stream",
     "text": [
      "This may take a little time. Have patience...\n"
     ]
    }
   ],
   "source": [
    "#Pairplot of the dataset\n",
    "model.pairplot()"
   ]
  },
  {
   "cell_type": "code",
   "execution_count": null,
   "metadata": {},
   "outputs": [],
   "source": []
  },
  {
   "cell_type": "markdown",
   "metadata": {},
   "source": [
    "## **REFERENCES**\n",
    "\n",
    "Alternatives:\n",
    "\n",
    "* [Importing Jupyter Notebooks as Modules](https://jupyter-notebook.readthedocs.io/en/stable/examples/Notebook/Importing%20Notebooks.html)"
   ]
  },
  {
   "cell_type": "markdown",
   "metadata": {},
   "source": []
  },
  {
   "cell_type": "code",
   "execution_count": null,
   "metadata": {},
   "outputs": [],
   "source": []
  }
 ],
 "metadata": {
  "kernelspec": {
   "display_name": "Python 3",
   "language": "python",
   "name": "python3"
  },
  "language_info": {
   "codemirror_mode": {
    "name": "ipython",
    "version": 3
   },
   "file_extension": ".py",
   "mimetype": "text/x-python",
   "name": "python",
   "nbconvert_exporter": "python",
   "pygments_lexer": "ipython3",
   "version": "3.7.4"
  }
 },
 "nbformat": 4,
 "nbformat_minor": 4
}
